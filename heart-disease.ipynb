{
 "cells": [
  {
   "cell_type": "markdown",
   "metadata": {
    "colab_type": "text",
    "id": "0MRC0e0KhQ0S"
   },
   "source": [
    "# Heart Disease Classification"
   ]
  },
  {
   "cell_type": "markdown",
   "metadata": {
    "colab_type": "text",
    "id": "LWd1UlMnhT2s"
   },
   "source": [
    "## Importing the libraries"
   ]
  },
  {
   "cell_type": "code",
   "execution_count": 89,
   "metadata": {
    "colab": {},
    "colab_type": "code",
    "id": "YvGPUQaHhXfL"
   },
   "outputs": [],
   "source": [
    "import numpy as np\n",
    "import matplotlib.pyplot as plt\n",
    "import pandas as pd\n",
    "\n",
    "from sklearn.tree import DecisionTreeClassifier\n",
    "from sklearn.neighbors import KNeighborsClassifier\n",
    "from sklearn.svm import SVC\n",
    "from sklearn.linear_model import LogisticRegression\n",
    "from sklearn.ensemble import RandomForestClassifier\n",
    "from sklearn.svm import SVC\n",
    "from sklearn.naive_bayes import GaussianNB\n",
    "\n",
    "from sklearn.metrics import confusion_matrix, accuracy_score"
   ]
  },
  {
   "cell_type": "markdown",
   "metadata": {
    "colab_type": "text",
    "id": "K1VMqkGvhc3-"
   },
   "source": [
    "## Importing the dataset"
   ]
  },
  {
   "cell_type": "code",
   "execution_count": 90,
   "metadata": {
    "colab": {},
    "colab_type": "code",
    "id": "M52QDmyzhh9s"
   },
   "outputs": [],
   "source": [
    "dataset = pd.read_csv('heart.csv')\n",
    "X = dataset.iloc[:, :-1].values\n",
    "y = dataset.iloc[:, -1].values"
   ]
  },
  {
   "cell_type": "markdown",
   "metadata": {
    "colab_type": "text",
    "id": "YvxIPVyMhmKp"
   },
   "source": [
    "## Splitting the dataset into the Training set and Test set"
   ]
  },
  {
   "cell_type": "code",
   "execution_count": 91,
   "metadata": {
    "colab": {},
    "colab_type": "code",
    "id": "AVzJWAXIhxoC"
   },
   "outputs": [],
   "source": [
    "from sklearn.model_selection import train_test_split\n",
    "X_train, X_test, y_train, y_test = train_test_split(X, y, test_size = 0.25, random_state = 0)"
   ]
  },
  {
   "cell_type": "markdown",
   "metadata": {
    "colab_type": "text",
    "id": "kW3c7UYih0hT"
   },
   "source": [
    "## Feature Scaling"
   ]
  },
  {
   "cell_type": "code",
   "execution_count": 92,
   "metadata": {
    "colab": {},
    "colab_type": "code",
    "id": "9fQlDPKCh8sc"
   },
   "outputs": [],
   "source": [
    "from sklearn.preprocessing import StandardScaler\n",
    "sc = StandardScaler()\n",
    "X_train = sc.fit_transform(X_train)\n",
    "X_test = sc.transform(X_test)"
   ]
  },
  {
   "cell_type": "markdown",
   "metadata": {},
   "source": [
    "# Modelling"
   ]
  },
  {
   "cell_type": "code",
   "execution_count": 93,
   "metadata": {},
   "outputs": [
    {
     "data": {
      "text/plain": [
       "SVC(kernel='linear', random_state=0)"
      ]
     },
     "execution_count": 93,
     "metadata": {},
     "output_type": "execute_result"
    }
   ],
   "source": [
    "decisiontree_classifier = DecisionTreeClassifier(criterion = 'entropy', random_state = 0)\n",
    "decisiontree_classifier.fit(X_train, y_train)\n",
    "\n",
    "knn_classifier = KNeighborsClassifier(n_neighbors = 5, metric = 'minkowski', p = 2)\n",
    "knn_classifier.fit(X_train, y_train)\n",
    "\n",
    "kernel_svm = SVC(kernel = 'rbf', random_state = 0)\n",
    "kernel_svm.fit(X_train, y_train)\n",
    "\n",
    "Logistic = LogisticRegression(random_state = 0)\n",
    "Logistic.fit(X_train, y_train)\n",
    "\n",
    "naive_bayes_classifier = GaussianNB()\n",
    "naive_bayes_classifier.fit(X_train, y_train)\n",
    "\n",
    "RandomForest_Classifier = RandomForestClassifier(n_estimators = 10, criterion = 'entropy', random_state = 0)\n",
    "RandomForest_Classifier.fit(X_train, y_train)\n",
    "\n",
    "svm_classifier = SVC(kernel = 'linear', random_state = 0)\n",
    "svm_classifier.fit(X_train, y_train)"
   ]
  },
  {
   "cell_type": "code",
   "execution_count": 94,
   "metadata": {},
   "outputs": [
    {
     "name": "stdout",
     "output_type": "stream",
     "text": [
      "[[24  9]\n",
      " [ 6 37]] \n",
      "Decision Tree:  0.8026315789473685\n",
      "[[24  9]\n",
      " [ 2 41]] \n",
      "SVM:  0.8552631578947368\n",
      "[[25  8]\n",
      " [ 3 40]] \n",
      "Kernel SVM:  0.8552631578947368\n",
      "[[23 10]\n",
      " [ 4 39]] \n",
      "K Nearest Neighbor:  0.8157894736842105\n",
      "[[24  9]\n",
      " [ 4 39]] \n",
      "Logistic Regression:  0.8289473684210527\n",
      "[[24  9]\n",
      " [ 4 39]] \n",
      "Naive Bayes:  0.8289473684210527\n",
      "[[24  9]\n",
      " [ 4 39]] \n",
      "Random Forest:  0.8289473684210527\n"
     ]
    }
   ],
   "source": [
    "decisiontree_classifier_pred = decisiontree_classifier.predict(X_test)\n",
    "cm = confusion_matrix(y_test, decisiontree_classifier_pred)\n",
    "print(cm, \"\\nDecision Tree: \", accuracy_score(y_test, decisiontree_classifier_pred))\n",
    "\n",
    "svm_classifier_pred = svm_classifier.predict(X_test)\n",
    "cm = confusion_matrix(y_test, svm_classifier_pred)\n",
    "print(cm, \"\\nSVM: \", accuracy_score(y_test, svm_classifier_pred))\n",
    "\n",
    "kernel_svm_pred = kernel_svm.predict(X_test)\n",
    "cm = confusion_matrix(y_test, kernel_svm_pred)\n",
    "print(cm, \"\\nKernel SVM: \", accuracy_score(y_test, kernel_svm_pred))\n",
    "\n",
    "knn_classifier_pred = knn_classifier.predict(X_test)\n",
    "cm = confusion_matrix(y_test, knn_classifier_pred)\n",
    "print(cm, \"\\nK Nearest Neighbor: \", accuracy_score(y_test, knn_classifier_pred))\n",
    "\n",
    "Logistic_pred = Logistic.predict(X_test)\n",
    "cm = confusion_matrix(y_test, Logistic_pred)\n",
    "print(cm, \"\\nLogistic Regression: \", accuracy_score(y_test, Logistic_pred))\n",
    "\n",
    "naive_bayes_pred = naive_bayes_classifier.predict(X_test)\n",
    "cm = confusion_matrix(y_test, naive_bayes_pred)\n",
    "print(cm, \"\\nNaive Bayes: \", accuracy_score(y_test, naive_bayes_pred))\n",
    "\n",
    "RandomForest_pred = RandomForest_Classifier.predict(X_test)\n",
    "cm = confusion_matrix(y_test, RandomForest_pred)\n",
    "print(cm, \"\\nRandom Forest: \", accuracy_score(y_test, RandomForest_pred))\n",
    "\n"
   ]
  }
 ],
 "metadata": {
  "interpreter": {
   "hash": "c5f1b1bb18d1626ac39073d27d94514bcc2e7b19a551dc26277e1fbb650339e0"
  },
  "kernelspec": {
   "display_name": "Python 3.9.7 64-bit ('base': conda)",
   "language": "python",
   "name": "python3"
  },
  "language_info": {
   "codemirror_mode": {
    "name": "ipython",
    "version": 3
   },
   "file_extension": ".py",
   "mimetype": "text/x-python",
   "name": "python",
   "nbconvert_exporter": "python",
   "pygments_lexer": "ipython3",
   "version": "3.9.7"
  },
  "orig_nbformat": 4
 },
 "nbformat": 4,
 "nbformat_minor": 2
}
